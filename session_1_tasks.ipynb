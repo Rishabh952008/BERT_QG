{
  "nbformat": 4,
  "nbformat_minor": 0,
  "metadata": {
    "colab": {
      "provenance": [],
      "include_colab_link": true
    },
    "kernelspec": {
      "name": "python3",
      "display_name": "Python 3"
    },
    "language_info": {
      "name": "python"
    }
  },
  "cells": [
    {
      "cell_type": "markdown",
      "metadata": {
        "id": "view-in-github",
        "colab_type": "text"
      },
      "source": [
        "<a href=\"https://colab.research.google.com/github/Rishabh952008/BERT_QG/blob/main/session_1_tasks.ipynb\" target=\"_parent\"><img src=\"https://colab.research.google.com/assets/colab-badge.svg\" alt=\"Open In Colab\"/></a>"
      ]
    },
    {
      "cell_type": "markdown",
      "source": [
        "# Task : Session 1\n",
        "Solve these questions own your own and try to test yourself what you have learned in the session.\n",
        "\n",
        "Happy Learning!"
      ],
      "metadata": {
        "id": "A05OG15VqOPF"
      }
    },
    {
      "cell_type": "markdown",
      "source": [
        "### Q1 :- Print the given strings as per stated format.\n",
        "\n",
        "**Given strings**:\n",
        "```\n",
        "\"Data\" \"Science\" \"Mentorship\" \"Program\"\n",
        "\"By\" \"CampusX\"\n",
        "```\n",
        "**Output**:\n",
        "```\n",
        "Data-Science-Mentorship-Program-started-By-CampusX\n",
        "```\n",
        "\n",
        "Concept- [Seperator and End]"
      ],
      "metadata": {
        "id": "2doIXf8bqe9_"
      }
    },
    {
      "cell_type": "code",
      "source": [
        "# Write your code here\n",
        "print(\"Data\",\"Science\",\"Mentorship\",\"Program\",sep=\"-\",end=\"-\")\n",
        "print(\"By\",\"CampusX\",sep=\"-\")\n"
      ],
      "metadata": {
        "id": "-em6d3KErDtp",
        "outputId": "3239d9da-c5ce-47d5-a81e-71d63e88da42",
        "colab": {
          "base_uri": "https://localhost:8080/"
        }
      },
      "execution_count": 1,
      "outputs": [
        {
          "output_type": "stream",
          "name": "stdout",
          "text": [
            "Data-Science-Mentorship-Program-By-CampusX\n"
          ]
        }
      ]
    },
    {
      "cell_type": "markdown",
      "source": [
        "### Q2:- Write a program that will convert celsius value to fahrenheit."
      ],
      "metadata": {
        "id": "1KUpN7ZTrC3_"
      }
    },
    {
      "cell_type": "code",
      "source": [
        "# Write your code here\n",
        "celsius = float(input(\"Enter temperature in celsius: \"))\n",
        "fahrenheit = (celsius * 9/5) + 32\n",
        "print('%.2f Celsius is: %0.2f Fahrenheit' %(celsius, fahrenheit))"
      ],
      "metadata": {
        "id": "yxKYhYQiqWfj",
        "outputId": "01b99295-f0dc-49f3-e599-9ef0f0f805f4",
        "colab": {
          "base_uri": "https://localhost:8080/"
        }
      },
      "execution_count": 2,
      "outputs": [
        {
          "output_type": "stream",
          "name": "stdout",
          "text": [
            "Enter temperature in celsius: 30\n",
            "30.00 Celsius is: 86.00 Fahrenheit\n"
          ]
        }
      ]
    },
    {
      "cell_type": "markdown",
      "source": [
        "### Q3:- Take 2 numbers as input from the user.Write a program to swap the numbers without using any special python syntax."
      ],
      "metadata": {
        "id": "RLrOBBJurLB2"
      }
    },
    {
      "cell_type": "code",
      "source": [
        "# Write your code here\n",
        "a = int(input(\"Enter first number: \"))\n",
        "b = int(input(\"Enter second number: \"))\n",
        "def swap(a,b):\n",
        "    return b,a"
      ],
      "metadata": {
        "id": "yPn7if0TrJ4F",
        "outputId": "938ca185-38f7-47a1-9f95-e665237922d5",
        "colab": {
          "base_uri": "https://localhost:8080/"
        }
      },
      "execution_count": 3,
      "outputs": [
        {
          "name": "stdout",
          "output_type": "stream",
          "text": [
            "Enter first number: 23\n",
            "Enter second number: 44\n"
          ]
        }
      ]
    },
    {
      "cell_type": "code",
      "source": [
        "swap(23,44)"
      ],
      "metadata": {
        "id": "9sukwyHxMhjS",
        "outputId": "1b773b5e-93e9-4b32-b0d7-b27b256327ff",
        "colab": {
          "base_uri": "https://localhost:8080/"
        }
      },
      "execution_count": 4,
      "outputs": [
        {
          "output_type": "execute_result",
          "data": {
            "text/plain": [
              "(44, 23)"
            ]
          },
          "metadata": {},
          "execution_count": 4
        }
      ]
    },
    {
      "cell_type": "markdown",
      "source": [
        "### Q4:- Write a program to find the euclidean distance between two coordinates.Take both the coordinates from the user as input."
      ],
      "metadata": {
        "id": "waLCP1bjr7ML"
      }
    },
    {
      "cell_type": "code",
      "source": [
        "# Write your code here\n",
        "c1x = int(input(\"Enter the x coordinate of the first point: \"))\n",
        "c1y = int(input(\"Enter the y coordinate of the first point: \"))\n",
        "c2x = int(input(\"Enter the x coordinate of the second point: \"))\n",
        "c2y = int(input(\"Enter the y coordinate of the second point: \"))\n",
        "\n",
        "distance = ((c1x-c2x)**2 + (c1y-c2y)**2)**0.5\n",
        "print(distance)"
      ],
      "metadata": {
        "id": "Pl1Sv-xnrxnH",
        "outputId": "6f0aeb14-014a-444e-b0d0-210026c17da2",
        "colab": {
          "base_uri": "https://localhost:8080/"
        }
      },
      "execution_count": 5,
      "outputs": [
        {
          "output_type": "stream",
          "name": "stdout",
          "text": [
            "Enter the x coordinate of the first point: 2\n",
            "Enter the y coordinate of the first point: 0\n",
            "Enter the x coordinate of the second point: 0\n",
            "Enter the y coordinate of the second point: 2\n",
            "2.8284271247461903\n"
          ]
        }
      ]
    },
    {
      "cell_type": "markdown",
      "source": [
        "### Q5:- Write a program to find the simple interest when the value of principle,rate of interest and time period is provided by the user.\n"
      ],
      "metadata": {
        "id": "VLrhg-FRsHjR"
      }
    },
    {
      "cell_type": "code",
      "source": [
        "# Write your code here\n",
        "p = float(input(\"Enter the principle amount: \"))\n",
        "r = float(input(\"Enter the rate of interest: \"))\n",
        "t = float(input(\"Enter the time period: \"))\n",
        "si = (p*r*t)/100\n",
        "print(\"The simple interest is: \",si)"
      ],
      "metadata": {
        "id": "s40DlReZsTmY",
        "outputId": "d173a21a-6d36-4245-81a2-56c78a7b4881",
        "colab": {
          "base_uri": "https://localhost:8080/"
        }
      },
      "execution_count": 7,
      "outputs": [
        {
          "output_type": "stream",
          "name": "stdout",
          "text": [
            "Enter the principle amount: 2\n",
            "Enter the rate of interest: 3\n",
            "Enter the time period: 4\n",
            "The simple interest is:  0.24\n"
          ]
        }
      ]
    },
    {
      "cell_type": "markdown",
      "source": [
        "3### Q6:- Write a program that will tell the number of dogs and chicken are there when the user will provide the value of total heads and legs.\n",
        "\n",
        "For example:\n",
        "Input:\n",
        "heads -> 4\n",
        "legs -> 12\n",
        "<br>\n",
        "Output:\n",
        "dogs -> 2\n",
        "chicken -> 2\n",
        "\n",
        "\n",
        "\n"
      ],
      "metadata": {
        "id": "LMy0BTUktYKa"
      }
    },
    {
      "cell_type": "code",
      "source": [
        "# Write your code here\n",
        "heads = int(input(\"Enter the number of heads: \"))\n",
        "legs = int(input(\"Enter the number of legs: \"))\n",
        "for i in range(heads+1):\n",
        "    j = heads-i\n",
        "    if (2*i)+(4*j)==legs:\n",
        "        print(\"Number of chickens are: \",i)\n",
        "        print(\"Number of dogs are: \",j)"
      ],
      "metadata": {
        "id": "XSBvJoA4tXaG",
        "outputId": "ab904f33-935d-44bd-cf94-3e4ec916db8a",
        "colab": {
          "base_uri": "https://localhost:8080/"
        }
      },
      "execution_count": 8,
      "outputs": [
        {
          "output_type": "stream",
          "name": "stdout",
          "text": [
            "Enter the number of heads: 4\n",
            "Enter the number of legs: 12\n",
            "Number of chickens are:  2\n",
            "Number of dogs are:  2\n"
          ]
        }
      ]
    },
    {
      "cell_type": "markdown",
      "source": [
        "### Q7:- Write a program to find the sum of squares of first n natural numbers where n will be provided by the user."
      ],
      "metadata": {
        "id": "gJ7C5kZYt4BP"
      }
    },
    {
      "cell_type": "code",
      "source": [
        "# Write your code here\n",
        "n = int(input(\"Enter the number: \"))\n",
        "sum = 0\n",
        "for i in range(1,n+1):\n",
        "    sum += i**2\n",
        "print(sum)"
      ],
      "metadata": {
        "id": "_tHsmEHzt2nX",
        "outputId": "30a75e6d-526f-4611-cf8e-95243599076d",
        "colab": {
          "base_uri": "https://localhost:8080/"
        }
      },
      "execution_count": 9,
      "outputs": [
        {
          "output_type": "stream",
          "name": "stdout",
          "text": [
            "Enter the number: 10\n",
            "385\n"
          ]
        }
      ]
    },
    {
      "cell_type": "markdown",
      "source": [
        "### Q8:- Given the first 2 terms of an Arithmetic Series.Find the Nth term of the series. Assume all inputs are provided by the user."
      ],
      "metadata": {
        "id": "FHrMM7g-yG1h"
      }
    },
    {
      "cell_type": "code",
      "source": [
        "# Write your code here\n",
        "a = int(input(\"Enter the first term: \"))\n",
        "b = int(input(\"Enter the second term: \"))\n",
        "n = int(input(\"Enter the value of n: \"))\n",
        "d = b-a\n",
        "nth = a + (n-1)*d\n",
        "print(nth)"
      ],
      "metadata": {
        "id": "go4_kmZmyVSx",
        "outputId": "8210cb3b-763e-4d6d-ed95-8c8c1ca82f11",
        "colab": {
          "base_uri": "https://localhost:8080/"
        }
      },
      "execution_count": 10,
      "outputs": [
        {
          "output_type": "stream",
          "name": "stdout",
          "text": [
            "Enter the first term: 2\n",
            "Enter the second term: 4\n",
            "Enter the value of n: 10\n",
            "20\n"
          ]
        }
      ]
    },
    {
      "cell_type": "markdown",
      "source": [
        "### Q9:- Given 2 fractions, find the sum of those 2 fractions.Take the numerator and denominator values of the fractions from the user."
      ],
      "metadata": {
        "id": "QgyRX_es1oum"
      }
    },
    {
      "cell_type": "code",
      "source": [
        "# Write your code here\n",
        "f1_num = int(input(\"Enter the numerator of the first fraction: \"))\n",
        "f1_den = int(input(\"Enter the denominator of the first fraction: \"))\n",
        "f2_num = int (input(\"Enter the numerator of the second fraction: \"))\n",
        "f2_den = int(input(\"Enter the denominator of the second fraction: \"))\n",
        "f1 = f1_num/f1_den\n",
        "f2 = f2_num/f2_den\n",
        "sum = f1+f2"
      ],
      "metadata": {
        "id": "X05xqFS1yW16",
        "outputId": "fb122385-b4a7-4453-b610-a1e78ece2073",
        "colab": {
          "base_uri": "https://localhost:8080/"
        }
      },
      "execution_count": 11,
      "outputs": [
        {
          "name": "stdout",
          "output_type": "stream",
          "text": [
            "Enter the numerator of the first fraction: 2\n",
            "Enter the denominator of the first fraction: 3\n",
            "Enter the numerator of the second fraction: 3\n",
            "Enter the denominator of the second fraction: 3\n"
          ]
        }
      ]
    },
    {
      "cell_type": "code",
      "source": [
        "print(sum)"
      ],
      "metadata": {
        "id": "x16YH2IiQctV",
        "outputId": "537c05dd-2b72-47da-dd4c-9c4096045913",
        "colab": {
          "base_uri": "https://localhost:8080/"
        }
      },
      "execution_count": 12,
      "outputs": [
        {
          "output_type": "stream",
          "name": "stdout",
          "text": [
            "1.6666666666666665\n"
          ]
        }
      ]
    },
    {
      "cell_type": "markdown",
      "source": [
        "### Q10:- Given the height, width and breadth of a milk tank, you have to find out how many glasses of milk can be obtained? Assume all the inputs are provided by the user.\n",
        "\n",
        "\n",
        "\n",
        "Input:<br>\n",
        "Dimensions of the milk tank<br>\n",
        "H = 20cm, L = 20cm, B = 20cm\n",
        "<br><br>\n",
        "Dimensions of the glass<br>\n",
        "h = 3cm, r = 1cm"
      ],
      "metadata": {
        "id": "eaql38ln13u7"
      }
    },
    {
      "cell_type": "code",
      "source": [
        "# Write your code here\n",
        "H = int(input(\"Enter the height of the milk tank: \"))\n",
        "L = int(input(\"Enter the length of the milk tank: \"))\n",
        "B = int(input(\"Enter the breadth of the milk tank: \"))\n",
        "\n",
        "# dimensions of glass taking input\n",
        "\n",
        "h = int(input(\"Enter the height of the glass: \"))\n",
        "r = int(input(\"Enter the radius of the glass: \"))\n",
        "\n",
        "print((H*L*B)/(h*r))"
      ],
      "metadata": {
        "id": "FePZqno74eWv",
        "outputId": "1b9d06cd-8f8d-4155-ef7e-23521fa56e0e",
        "colab": {
          "base_uri": "https://localhost:8080/"
        }
      },
      "execution_count": 13,
      "outputs": [
        {
          "output_type": "stream",
          "name": "stdout",
          "text": [
            "Enter the height of the milk tank: 20\n",
            "Enter the length of the milk tank: 20\n",
            "Enter the breadth of the milk tank: 20\n",
            "Enter the height of the glass: 3\n",
            "Enter the radius of the glass: 1\n",
            "2666.6666666666665\n"
          ]
        }
      ]
    },
    {
      "cell_type": "code",
      "source": [],
      "metadata": {
        "id": "2D7L9q0dRAmL"
      },
      "execution_count": null,
      "outputs": []
    }
  ]
}